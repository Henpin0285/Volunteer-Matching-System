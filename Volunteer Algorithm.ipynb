{
 "cells": [
  {
   "cell_type": "code",
   "execution_count": 1,
   "id": "fa01b464",
   "metadata": {},
   "outputs": [],
   "source": [
    "class Volunteer:\n",
    "    def __init__(self, name, skills, availability):\n",
    "        self.name = name\n",
    "        self.skills = skills\n",
    "        self.availability = availability\n",
    "\n",
    "class Task:\n",
    "    def __init__(self, name, required_skills, schedule):\n",
    "        self.name = name\n",
    "        self.required_skills = required_skills\n",
    "        self.schedule = schedule\n",
    "\n",
    "def match_volunteers_to_tasks(volunteers, tasks, skills_threshold=0.25):\n",
    "    matches = []\n",
    "\n",
    "    for task in tasks:\n",
    "        for volunteer in volunteers:\n",
    "            volunteer_skills = set(volunteer.skills[0].split(', '))\n",
    "            task_required_skills = set(task.required_skills)\n",
    "\n",
    "            min_skills_required = int(len(task_required_skills) * skills_threshold)\n",
    "\n",
    "            skills_match = len(task_required_skills.intersection(volunteer_skills)) >= min_skills_required\n",
    "            availability_match = any(day in volunteer.availability for day in task.schedule)\n",
    "\n",
    "            if skills_match and availability_match:\n",
    "                match = {\"Volunteer\": volunteer.name, \"Task\": task.name}\n",
    "                matches.append(match)\n",
    "\n",
    "    return matches"
   ]
  },
  {
   "cell_type": "code",
   "execution_count": 2,
   "id": "4fd82a0f",
   "metadata": {},
   "outputs": [
    {
     "name": "stdout",
     "output_type": "stream",
     "text": [
      "John is matched with Dispatcher\n"
     ]
    }
   ],
   "source": [
    "# Sample data\n",
    "volunteer_data = {\n",
    "    \"name\": \"John\",\n",
    "    \"skills\": [\"Proactive\", \"Organization\"],\n",
    "    \"availability\": [\"Tuesday\", \"Wednesday\"]\n",
    "}\n",
    "\n",
    "task_data = [\n",
    "    {\"name\": \"Customer Service\", \"required_skills\": [\"Communication\", \"Patience\", \"Tenacity\", \"Positive\"], \"schedule\": [\"Monday\"]},\n",
    "    {\"name\": \"Dispatcher\", \"required_skills\": [\"Multitasking\", \"Proactive\", \"Organization\", \"Adaptability\"], \"schedule\": [\"Tuesday\"]},\n",
    "    {\"name\": \"Order Packaging\", \"required_skills\": [\"Attention to Detail\", \"Teamwork\", \"Quality Control\", \"Problem Solving\"], \"schedule\": [\"Wednesday\"]}\n",
    "]\n",
    "\n",
    "# Create instances\n",
    "volunteer = Volunteer(**volunteer_data)\n",
    "tasks = [Task(**data) for data in task_data]\n",
    "\n",
    "# Match volunteers to tasks\n",
    "matches = match_volunteers_to_tasks([volunteer], tasks)\n",
    "\n",
    "# Display the matches\n",
    "for match in matches:\n",
    "    print(f\"{match['Volunteer']} is matched with {match['Task']}\")"
   ]
  },
  {
   "cell_type": "code",
   "execution_count": null,
   "id": "4a03f8d2",
   "metadata": {},
   "outputs": [],
   "source": []
  }
 ],
 "metadata": {
  "kernelspec": {
   "display_name": "Python 3 (ipykernel)",
   "language": "python",
   "name": "python3"
  },
  "language_info": {
   "codemirror_mode": {
    "name": "ipython",
    "version": 3
   },
   "file_extension": ".py",
   "mimetype": "text/x-python",
   "name": "python",
   "nbconvert_exporter": "python",
   "pygments_lexer": "ipython3",
   "version": "3.9.12"
  }
 },
 "nbformat": 4,
 "nbformat_minor": 5
}
